{
 "cells": [
  {
   "cell_type": "markdown",
   "metadata": {},
   "source": [
    "## **IMPORTING LIBRARIES**"
   ]
  },
  {
   "cell_type": "code",
   "execution_count": 1,
   "metadata": {},
   "outputs": [
    {
     "name": "stderr",
     "output_type": "stream",
     "text": [
      "c:\\ProgramData\\Anaconda3\\lib\\site-packages\\scipy\\__init__.py:146: UserWarning: A NumPy version >=1.16.5 and <1.23.0 is required for this version of SciPy (detected version 1.24.3\n",
      "  warnings.warn(f\"A NumPy version >={np_minversion} and <{np_maxversion}\"\n"
     ]
    }
   ],
   "source": [
    "import numpy as np \n",
    "import pandas as pd \n",
    "import matplotlib.pyplot as plt\n",
    "import seaborn as sns\n",
    "\n",
    "from sklearn.preprocessing import OneHotEncoder\n",
    "pd.set_option('display.max_columns',None)\n",
    "\n",
    "from sklearn.model_selection import train_test_split\n",
    "from sklearn.preprocessing import StandardScaler\n",
    "from imblearn.over_sampling import SMOTE\n",
    "from sklearn.metrics import accuracy_score,confusion_matrix,classification_report\n",
    "\n",
    "from sklearn.linear_model import LogisticRegression\n",
    "from sklearn.metrics import mean_squared_error,r2_score\n",
    "from sklearn.ensemble import GradientBoostingClassifier, RandomForestClassifier,AdaBoostClassifier\n",
    "from xgboost import XGBClassifier\n",
    "from sklearn.svm import SVC\n",
    "from sklearn.neighbors import KNeighborsClassifier\n",
    "\n",
    "from sklearn.tree import DecisionTreeClassifier\n",
    "\n",
    "from sklearn.svm import SVR\n",
    "# from sklearn.linear_model import Lasso, Ridge\n",
    "import xgboost as xgb\n",
    "\n",
    "import warnings \n",
    "warnings.filterwarnings('ignore',category=DeprecationWarning)"
   ]
  },
  {
   "cell_type": "markdown",
   "metadata": {},
   "source": [
    "## **DATA COLLECTION AND ANALYSIS**"
   ]
  },
  {
   "cell_type": "code",
   "execution_count": 127,
   "metadata": {},
   "outputs": [],
   "source": [
    "train=pd.read_csv('D:\\Google Drive\\imarticus python\\Eneeyan\\WineQT_prediction.csv')"
   ]
  },
  {
   "cell_type": "code",
   "execution_count": 128,
   "metadata": {},
   "outputs": [
    {
     "data": {
      "text/html": [
       "<div>\n",
       "<style scoped>\n",
       "    .dataframe tbody tr th:only-of-type {\n",
       "        vertical-align: middle;\n",
       "    }\n",
       "\n",
       "    .dataframe tbody tr th {\n",
       "        vertical-align: top;\n",
       "    }\n",
       "\n",
       "    .dataframe thead th {\n",
       "        text-align: right;\n",
       "    }\n",
       "</style>\n",
       "<table border=\"1\" class=\"dataframe\">\n",
       "  <thead>\n",
       "    <tr style=\"text-align: right;\">\n",
       "      <th></th>\n",
       "      <th>fixed acidity</th>\n",
       "      <th>volatile acidity</th>\n",
       "      <th>citric acid</th>\n",
       "      <th>residual sugar</th>\n",
       "      <th>chlorides</th>\n",
       "      <th>free sulfur dioxide</th>\n",
       "      <th>total sulfur dioxide</th>\n",
       "      <th>density</th>\n",
       "      <th>pH</th>\n",
       "      <th>sulphates</th>\n",
       "      <th>alcohol</th>\n",
       "      <th>quality</th>\n",
       "      <th>Id</th>\n",
       "    </tr>\n",
       "  </thead>\n",
       "  <tbody>\n",
       "    <tr>\n",
       "      <th>0</th>\n",
       "      <td>7.4</td>\n",
       "      <td>0.70</td>\n",
       "      <td>0.00</td>\n",
       "      <td>1.9</td>\n",
       "      <td>0.076</td>\n",
       "      <td>11.0</td>\n",
       "      <td>34.0</td>\n",
       "      <td>0.9978</td>\n",
       "      <td>3.51</td>\n",
       "      <td>0.56</td>\n",
       "      <td>9.4</td>\n",
       "      <td>5</td>\n",
       "      <td>0</td>\n",
       "    </tr>\n",
       "    <tr>\n",
       "      <th>1</th>\n",
       "      <td>7.8</td>\n",
       "      <td>0.88</td>\n",
       "      <td>0.00</td>\n",
       "      <td>2.6</td>\n",
       "      <td>0.098</td>\n",
       "      <td>25.0</td>\n",
       "      <td>67.0</td>\n",
       "      <td>0.9968</td>\n",
       "      <td>3.20</td>\n",
       "      <td>0.68</td>\n",
       "      <td>9.8</td>\n",
       "      <td>5</td>\n",
       "      <td>1</td>\n",
       "    </tr>\n",
       "    <tr>\n",
       "      <th>2</th>\n",
       "      <td>7.8</td>\n",
       "      <td>0.76</td>\n",
       "      <td>0.04</td>\n",
       "      <td>2.3</td>\n",
       "      <td>0.092</td>\n",
       "      <td>15.0</td>\n",
       "      <td>54.0</td>\n",
       "      <td>0.9970</td>\n",
       "      <td>3.26</td>\n",
       "      <td>0.65</td>\n",
       "      <td>9.8</td>\n",
       "      <td>5</td>\n",
       "      <td>2</td>\n",
       "    </tr>\n",
       "    <tr>\n",
       "      <th>3</th>\n",
       "      <td>11.2</td>\n",
       "      <td>0.28</td>\n",
       "      <td>0.56</td>\n",
       "      <td>1.9</td>\n",
       "      <td>0.075</td>\n",
       "      <td>17.0</td>\n",
       "      <td>60.0</td>\n",
       "      <td>0.9980</td>\n",
       "      <td>3.16</td>\n",
       "      <td>0.58</td>\n",
       "      <td>9.8</td>\n",
       "      <td>6</td>\n",
       "      <td>3</td>\n",
       "    </tr>\n",
       "    <tr>\n",
       "      <th>4</th>\n",
       "      <td>7.4</td>\n",
       "      <td>0.70</td>\n",
       "      <td>0.00</td>\n",
       "      <td>1.9</td>\n",
       "      <td>0.076</td>\n",
       "      <td>11.0</td>\n",
       "      <td>34.0</td>\n",
       "      <td>0.9978</td>\n",
       "      <td>3.51</td>\n",
       "      <td>0.56</td>\n",
       "      <td>9.4</td>\n",
       "      <td>5</td>\n",
       "      <td>4</td>\n",
       "    </tr>\n",
       "  </tbody>\n",
       "</table>\n",
       "</div>"
      ],
      "text/plain": [
       "   fixed acidity  volatile acidity  citric acid  residual sugar  chlorides  \\\n",
       "0            7.4              0.70         0.00             1.9      0.076   \n",
       "1            7.8              0.88         0.00             2.6      0.098   \n",
       "2            7.8              0.76         0.04             2.3      0.092   \n",
       "3           11.2              0.28         0.56             1.9      0.075   \n",
       "4            7.4              0.70         0.00             1.9      0.076   \n",
       "\n",
       "   free sulfur dioxide  total sulfur dioxide  density    pH  sulphates  \\\n",
       "0                 11.0                  34.0   0.9978  3.51       0.56   \n",
       "1                 25.0                  67.0   0.9968  3.20       0.68   \n",
       "2                 15.0                  54.0   0.9970  3.26       0.65   \n",
       "3                 17.0                  60.0   0.9980  3.16       0.58   \n",
       "4                 11.0                  34.0   0.9978  3.51       0.56   \n",
       "\n",
       "   alcohol  quality  Id  \n",
       "0      9.4        5   0  \n",
       "1      9.8        5   1  \n",
       "2      9.8        5   2  \n",
       "3      9.8        6   3  \n",
       "4      9.4        5   4  "
      ]
     },
     "execution_count": 128,
     "metadata": {},
     "output_type": "execute_result"
    }
   ],
   "source": [
    "train.head()"
   ]
  },
  {
   "cell_type": "code",
   "execution_count": 129,
   "metadata": {},
   "outputs": [
    {
     "name": "stdout",
     "output_type": "stream",
     "text": [
      "<class 'pandas.core.frame.DataFrame'>\n",
      "RangeIndex: 1143 entries, 0 to 1142\n",
      "Data columns (total 13 columns):\n",
      " #   Column                Non-Null Count  Dtype  \n",
      "---  ------                --------------  -----  \n",
      " 0   fixed acidity         1143 non-null   float64\n",
      " 1   volatile acidity      1143 non-null   float64\n",
      " 2   citric acid           1143 non-null   float64\n",
      " 3   residual sugar        1143 non-null   float64\n",
      " 4   chlorides             1143 non-null   float64\n",
      " 5   free sulfur dioxide   1143 non-null   float64\n",
      " 6   total sulfur dioxide  1143 non-null   float64\n",
      " 7   density               1143 non-null   float64\n",
      " 8   pH                    1143 non-null   float64\n",
      " 9   sulphates             1143 non-null   float64\n",
      " 10  alcohol               1143 non-null   float64\n",
      " 11  quality               1143 non-null   int64  \n",
      " 12  Id                    1143 non-null   int64  \n",
      "dtypes: float64(11), int64(2)\n",
      "memory usage: 116.2 KB\n"
     ]
    }
   ],
   "source": [
    "train.info()"
   ]
  },
  {
   "cell_type": "code",
   "execution_count": 130,
   "metadata": {},
   "outputs": [
    {
     "data": {
      "text/plain": [
       "(1143, 13)"
      ]
     },
     "execution_count": 130,
     "metadata": {},
     "output_type": "execute_result"
    }
   ],
   "source": [
    "train.shape"
   ]
  },
  {
   "cell_type": "code",
   "execution_count": 131,
   "metadata": {},
   "outputs": [
    {
     "data": {
      "text/plain": [
       "0"
      ]
     },
     "execution_count": 131,
     "metadata": {},
     "output_type": "execute_result"
    }
   ],
   "source": [
    "train.duplicated().sum()"
   ]
  },
  {
   "cell_type": "code",
   "execution_count": 132,
   "metadata": {},
   "outputs": [
    {
     "data": {
      "text/html": [
       "<style type=\"text/css\">\n",
       "#T_57fbd_row0_col1, #T_57fbd_row0_col2, #T_57fbd_row0_col4, #T_57fbd_row1_col1, #T_57fbd_row1_col2, #T_57fbd_row1_col4, #T_57fbd_row1_col6, #T_57fbd_row1_col7, #T_57fbd_row2_col1, #T_57fbd_row2_col2, #T_57fbd_row2_col4, #T_57fbd_row2_col5, #T_57fbd_row2_col6, #T_57fbd_row2_col7, #T_57fbd_row3_col1, #T_57fbd_row3_col2, #T_57fbd_row3_col4, #T_57fbd_row3_col7, #T_57fbd_row4_col1, #T_57fbd_row4_col2, #T_57fbd_row4_col4, #T_57fbd_row4_col5, #T_57fbd_row4_col6, #T_57fbd_row4_col7, #T_57fbd_row5_col1, #T_57fbd_row5_col2, #T_57fbd_row5_col4, #T_57fbd_row6_col1, #T_57fbd_row6_col2, #T_57fbd_row6_col4, #T_57fbd_row7_col1, #T_57fbd_row7_col2, #T_57fbd_row7_col4, #T_57fbd_row7_col6, #T_57fbd_row7_col7, #T_57fbd_row8_col1, #T_57fbd_row8_col2, #T_57fbd_row8_col4, #T_57fbd_row8_col6, #T_57fbd_row9_col1, #T_57fbd_row9_col2, #T_57fbd_row9_col4, #T_57fbd_row9_col6, #T_57fbd_row9_col7, #T_57fbd_row10_col1, #T_57fbd_row10_col2, #T_57fbd_row10_col4, #T_57fbd_row11_col1, #T_57fbd_row11_col2, #T_57fbd_row11_col3, #T_57fbd_row11_col4, #T_57fbd_row12_col1, #T_57fbd_row12_col2, #T_57fbd_row12_col4, #T_57fbd_row12_col5 {\n",
       "  background-color: #f7fcf0;\n",
       "  color: #000000;\n",
       "}\n",
       "#T_57fbd_row0_col3 {\n",
       "  background-color: #e9f7e3;\n",
       "  color: #000000;\n",
       "}\n",
       "#T_57fbd_row0_col5 {\n",
       "  background-color: #69c2ca;\n",
       "  color: #000000;\n",
       "}\n",
       "#T_57fbd_row0_col6, #T_57fbd_row0_col7, #T_57fbd_row3_col6, #T_57fbd_row10_col6 {\n",
       "  background-color: #f6fbef;\n",
       "  color: #000000;\n",
       "}\n",
       "#T_57fbd_row1_col3, #T_57fbd_row6_col3 {\n",
       "  background-color: #e2f4dd;\n",
       "  color: #000000;\n",
       "}\n",
       "#T_57fbd_row1_col5, #T_57fbd_row10_col7 {\n",
       "  background-color: #f5fbee;\n",
       "  color: #000000;\n",
       "}\n",
       "#T_57fbd_row2_col3 {\n",
       "  background-color: #ecf8e6;\n",
       "  color: #000000;\n",
       "}\n",
       "#T_57fbd_row3_col3 {\n",
       "  background-color: #ebf7e5;\n",
       "  color: #000000;\n",
       "}\n",
       "#T_57fbd_row3_col5 {\n",
       "  background-color: #e4f4de;\n",
       "  color: #000000;\n",
       "}\n",
       "#T_57fbd_row4_col3 {\n",
       "  background-color: #e3f4de;\n",
       "  color: #000000;\n",
       "}\n",
       "#T_57fbd_row5_col3, #T_57fbd_row5_col6, #T_57fbd_row9_col5 {\n",
       "  background-color: #f0f9e9;\n",
       "  color: #000000;\n",
       "}\n",
       "#T_57fbd_row5_col5, #T_57fbd_row7_col5 {\n",
       "  background-color: #e1f4dc;\n",
       "  color: #000000;\n",
       "}\n",
       "#T_57fbd_row5_col7 {\n",
       "  background-color: #f4fbed;\n",
       "  color: #000000;\n",
       "}\n",
       "#T_57fbd_row6_col5 {\n",
       "  background-color: #3597c4;\n",
       "  color: #f1f1f1;\n",
       "}\n",
       "#T_57fbd_row6_col6 {\n",
       "  background-color: #d7efd1;\n",
       "  color: #000000;\n",
       "}\n",
       "#T_57fbd_row6_col7 {\n",
       "  background-color: #edf8e7;\n",
       "  color: #000000;\n",
       "}\n",
       "#T_57fbd_row7_col3 {\n",
       "  background-color: #b3e1ba;\n",
       "  color: #000000;\n",
       "}\n",
       "#T_57fbd_row8_col3, #T_57fbd_row9_col3 {\n",
       "  background-color: #eaf7e4;\n",
       "  color: #000000;\n",
       "}\n",
       "#T_57fbd_row8_col5 {\n",
       "  background-color: #b6e3bb;\n",
       "  color: #000000;\n",
       "}\n",
       "#T_57fbd_row8_col7, #T_57fbd_row11_col6, #T_57fbd_row11_col7 {\n",
       "  background-color: #f6fcef;\n",
       "  color: #000000;\n",
       "}\n",
       "#T_57fbd_row10_col3 {\n",
       "  background-color: #eef9e8;\n",
       "  color: #000000;\n",
       "}\n",
       "#T_57fbd_row10_col5, #T_57fbd_row12_col3, #T_57fbd_row12_col6, #T_57fbd_row12_col7 {\n",
       "  background-color: #084081;\n",
       "  color: #f1f1f1;\n",
       "}\n",
       "#T_57fbd_row11_col5 {\n",
       "  background-color: #addfb7;\n",
       "  color: #000000;\n",
       "}\n",
       "</style>\n",
       "<table id=\"T_57fbd\">\n",
       "  <thead>\n",
       "    <tr>\n",
       "      <th class=\"blank level0\" >&nbsp;</th>\n",
       "      <th id=\"T_57fbd_level0_col0\" class=\"col_heading level0 col0\" >dtypes</th>\n",
       "      <th id=\"T_57fbd_level0_col1\" class=\"col_heading level0 col1\" >missing#</th>\n",
       "      <th id=\"T_57fbd_level0_col2\" class=\"col_heading level0 col2\" >missing%</th>\n",
       "      <th id=\"T_57fbd_level0_col3\" class=\"col_heading level0 col3\" >uniques</th>\n",
       "      <th id=\"T_57fbd_level0_col4\" class=\"col_heading level0 col4\" >count</th>\n",
       "      <th id=\"T_57fbd_level0_col5\" class=\"col_heading level0 col5\" >min</th>\n",
       "      <th id=\"T_57fbd_level0_col6\" class=\"col_heading level0 col6\" >max</th>\n",
       "      <th id=\"T_57fbd_level0_col7\" class=\"col_heading level0 col7\" >mean</th>\n",
       "    </tr>\n",
       "  </thead>\n",
       "  <tbody>\n",
       "    <tr>\n",
       "      <th id=\"T_57fbd_level0_row0\" class=\"row_heading level0 row0\" >fixed acidity</th>\n",
       "      <td id=\"T_57fbd_row0_col0\" class=\"data row0 col0\" >float64</td>\n",
       "      <td id=\"T_57fbd_row0_col1\" class=\"data row0 col1\" >0</td>\n",
       "      <td id=\"T_57fbd_row0_col2\" class=\"data row0 col2\" >0.000000</td>\n",
       "      <td id=\"T_57fbd_row0_col3\" class=\"data row0 col3\" >91</td>\n",
       "      <td id=\"T_57fbd_row0_col4\" class=\"data row0 col4\" >1143</td>\n",
       "      <td id=\"T_57fbd_row0_col5\" class=\"data row0 col5\" >4.600000</td>\n",
       "      <td id=\"T_57fbd_row0_col6\" class=\"data row0 col6\" >15.900000</td>\n",
       "      <td id=\"T_57fbd_row0_col7\" class=\"data row0 col7\" >8.311111</td>\n",
       "    </tr>\n",
       "    <tr>\n",
       "      <th id=\"T_57fbd_level0_row1\" class=\"row_heading level0 row1\" >volatile acidity</th>\n",
       "      <td id=\"T_57fbd_row1_col0\" class=\"data row1 col0\" >float64</td>\n",
       "      <td id=\"T_57fbd_row1_col1\" class=\"data row1 col1\" >0</td>\n",
       "      <td id=\"T_57fbd_row1_col2\" class=\"data row1 col2\" >0.000000</td>\n",
       "      <td id=\"T_57fbd_row1_col3\" class=\"data row1 col3\" >135</td>\n",
       "      <td id=\"T_57fbd_row1_col4\" class=\"data row1 col4\" >1143</td>\n",
       "      <td id=\"T_57fbd_row1_col5\" class=\"data row1 col5\" >0.120000</td>\n",
       "      <td id=\"T_57fbd_row1_col6\" class=\"data row1 col6\" >1.580000</td>\n",
       "      <td id=\"T_57fbd_row1_col7\" class=\"data row1 col7\" >0.531339</td>\n",
       "    </tr>\n",
       "    <tr>\n",
       "      <th id=\"T_57fbd_level0_row2\" class=\"row_heading level0 row2\" >citric acid</th>\n",
       "      <td id=\"T_57fbd_row2_col0\" class=\"data row2 col0\" >float64</td>\n",
       "      <td id=\"T_57fbd_row2_col1\" class=\"data row2 col1\" >0</td>\n",
       "      <td id=\"T_57fbd_row2_col2\" class=\"data row2 col2\" >0.000000</td>\n",
       "      <td id=\"T_57fbd_row2_col3\" class=\"data row2 col3\" >77</td>\n",
       "      <td id=\"T_57fbd_row2_col4\" class=\"data row2 col4\" >1143</td>\n",
       "      <td id=\"T_57fbd_row2_col5\" class=\"data row2 col5\" >0.000000</td>\n",
       "      <td id=\"T_57fbd_row2_col6\" class=\"data row2 col6\" >1.000000</td>\n",
       "      <td id=\"T_57fbd_row2_col7\" class=\"data row2 col7\" >0.268364</td>\n",
       "    </tr>\n",
       "    <tr>\n",
       "      <th id=\"T_57fbd_level0_row3\" class=\"row_heading level0 row3\" >residual sugar</th>\n",
       "      <td id=\"T_57fbd_row3_col0\" class=\"data row3 col0\" >float64</td>\n",
       "      <td id=\"T_57fbd_row3_col1\" class=\"data row3 col1\" >0</td>\n",
       "      <td id=\"T_57fbd_row3_col2\" class=\"data row3 col2\" >0.000000</td>\n",
       "      <td id=\"T_57fbd_row3_col3\" class=\"data row3 col3\" >80</td>\n",
       "      <td id=\"T_57fbd_row3_col4\" class=\"data row3 col4\" >1143</td>\n",
       "      <td id=\"T_57fbd_row3_col5\" class=\"data row3 col5\" >0.900000</td>\n",
       "      <td id=\"T_57fbd_row3_col6\" class=\"data row3 col6\" >15.500000</td>\n",
       "      <td id=\"T_57fbd_row3_col7\" class=\"data row3 col7\" >2.532152</td>\n",
       "    </tr>\n",
       "    <tr>\n",
       "      <th id=\"T_57fbd_level0_row4\" class=\"row_heading level0 row4\" >chlorides</th>\n",
       "      <td id=\"T_57fbd_row4_col0\" class=\"data row4 col0\" >float64</td>\n",
       "      <td id=\"T_57fbd_row4_col1\" class=\"data row4 col1\" >0</td>\n",
       "      <td id=\"T_57fbd_row4_col2\" class=\"data row4 col2\" >0.000000</td>\n",
       "      <td id=\"T_57fbd_row4_col3\" class=\"data row4 col3\" >131</td>\n",
       "      <td id=\"T_57fbd_row4_col4\" class=\"data row4 col4\" >1143</td>\n",
       "      <td id=\"T_57fbd_row4_col5\" class=\"data row4 col5\" >0.012000</td>\n",
       "      <td id=\"T_57fbd_row4_col6\" class=\"data row4 col6\" >0.611000</td>\n",
       "      <td id=\"T_57fbd_row4_col7\" class=\"data row4 col7\" >0.086933</td>\n",
       "    </tr>\n",
       "    <tr>\n",
       "      <th id=\"T_57fbd_level0_row5\" class=\"row_heading level0 row5\" >free sulfur dioxide</th>\n",
       "      <td id=\"T_57fbd_row5_col0\" class=\"data row5 col0\" >float64</td>\n",
       "      <td id=\"T_57fbd_row5_col1\" class=\"data row5 col1\" >0</td>\n",
       "      <td id=\"T_57fbd_row5_col2\" class=\"data row5 col2\" >0.000000</td>\n",
       "      <td id=\"T_57fbd_row5_col3\" class=\"data row5 col3\" >53</td>\n",
       "      <td id=\"T_57fbd_row5_col4\" class=\"data row5 col4\" >1143</td>\n",
       "      <td id=\"T_57fbd_row5_col5\" class=\"data row5 col5\" >1.000000</td>\n",
       "      <td id=\"T_57fbd_row5_col6\" class=\"data row5 col6\" >68.000000</td>\n",
       "      <td id=\"T_57fbd_row5_col7\" class=\"data row5 col7\" >15.615486</td>\n",
       "    </tr>\n",
       "    <tr>\n",
       "      <th id=\"T_57fbd_level0_row6\" class=\"row_heading level0 row6\" >total sulfur dioxide</th>\n",
       "      <td id=\"T_57fbd_row6_col0\" class=\"data row6 col0\" >float64</td>\n",
       "      <td id=\"T_57fbd_row6_col1\" class=\"data row6 col1\" >0</td>\n",
       "      <td id=\"T_57fbd_row6_col2\" class=\"data row6 col2\" >0.000000</td>\n",
       "      <td id=\"T_57fbd_row6_col3\" class=\"data row6 col3\" >138</td>\n",
       "      <td id=\"T_57fbd_row6_col4\" class=\"data row6 col4\" >1143</td>\n",
       "      <td id=\"T_57fbd_row6_col5\" class=\"data row6 col5\" >6.000000</td>\n",
       "      <td id=\"T_57fbd_row6_col6\" class=\"data row6 col6\" >289.000000</td>\n",
       "      <td id=\"T_57fbd_row6_col7\" class=\"data row6 col7\" >45.914698</td>\n",
       "    </tr>\n",
       "    <tr>\n",
       "      <th id=\"T_57fbd_level0_row7\" class=\"row_heading level0 row7\" >density</th>\n",
       "      <td id=\"T_57fbd_row7_col0\" class=\"data row7 col0\" >float64</td>\n",
       "      <td id=\"T_57fbd_row7_col1\" class=\"data row7 col1\" >0</td>\n",
       "      <td id=\"T_57fbd_row7_col2\" class=\"data row7 col2\" >0.000000</td>\n",
       "      <td id=\"T_57fbd_row7_col3\" class=\"data row7 col3\" >388</td>\n",
       "      <td id=\"T_57fbd_row7_col4\" class=\"data row7 col4\" >1143</td>\n",
       "      <td id=\"T_57fbd_row7_col5\" class=\"data row7 col5\" >0.990070</td>\n",
       "      <td id=\"T_57fbd_row7_col6\" class=\"data row7 col6\" >1.003690</td>\n",
       "      <td id=\"T_57fbd_row7_col7\" class=\"data row7 col7\" >0.996730</td>\n",
       "    </tr>\n",
       "    <tr>\n",
       "      <th id=\"T_57fbd_level0_row8\" class=\"row_heading level0 row8\" >pH</th>\n",
       "      <td id=\"T_57fbd_row8_col0\" class=\"data row8 col0\" >float64</td>\n",
       "      <td id=\"T_57fbd_row8_col1\" class=\"data row8 col1\" >0</td>\n",
       "      <td id=\"T_57fbd_row8_col2\" class=\"data row8 col2\" >0.000000</td>\n",
       "      <td id=\"T_57fbd_row8_col3\" class=\"data row8 col3\" >87</td>\n",
       "      <td id=\"T_57fbd_row8_col4\" class=\"data row8 col4\" >1143</td>\n",
       "      <td id=\"T_57fbd_row8_col5\" class=\"data row8 col5\" >2.740000</td>\n",
       "      <td id=\"T_57fbd_row8_col6\" class=\"data row8 col6\" >4.010000</td>\n",
       "      <td id=\"T_57fbd_row8_col7\" class=\"data row8 col7\" >3.311015</td>\n",
       "    </tr>\n",
       "    <tr>\n",
       "      <th id=\"T_57fbd_level0_row9\" class=\"row_heading level0 row9\" >sulphates</th>\n",
       "      <td id=\"T_57fbd_row9_col0\" class=\"data row9 col0\" >float64</td>\n",
       "      <td id=\"T_57fbd_row9_col1\" class=\"data row9 col1\" >0</td>\n",
       "      <td id=\"T_57fbd_row9_col2\" class=\"data row9 col2\" >0.000000</td>\n",
       "      <td id=\"T_57fbd_row9_col3\" class=\"data row9 col3\" >89</td>\n",
       "      <td id=\"T_57fbd_row9_col4\" class=\"data row9 col4\" >1143</td>\n",
       "      <td id=\"T_57fbd_row9_col5\" class=\"data row9 col5\" >0.330000</td>\n",
       "      <td id=\"T_57fbd_row9_col6\" class=\"data row9 col6\" >2.000000</td>\n",
       "      <td id=\"T_57fbd_row9_col7\" class=\"data row9 col7\" >0.657708</td>\n",
       "    </tr>\n",
       "    <tr>\n",
       "      <th id=\"T_57fbd_level0_row10\" class=\"row_heading level0 row10\" >alcohol</th>\n",
       "      <td id=\"T_57fbd_row10_col0\" class=\"data row10 col0\" >float64</td>\n",
       "      <td id=\"T_57fbd_row10_col1\" class=\"data row10 col1\" >0</td>\n",
       "      <td id=\"T_57fbd_row10_col2\" class=\"data row10 col2\" >0.000000</td>\n",
       "      <td id=\"T_57fbd_row10_col3\" class=\"data row10 col3\" >61</td>\n",
       "      <td id=\"T_57fbd_row10_col4\" class=\"data row10 col4\" >1143</td>\n",
       "      <td id=\"T_57fbd_row10_col5\" class=\"data row10 col5\" >8.400000</td>\n",
       "      <td id=\"T_57fbd_row10_col6\" class=\"data row10 col6\" >14.900000</td>\n",
       "      <td id=\"T_57fbd_row10_col7\" class=\"data row10 col7\" >10.442111</td>\n",
       "    </tr>\n",
       "    <tr>\n",
       "      <th id=\"T_57fbd_level0_row11\" class=\"row_heading level0 row11\" >quality</th>\n",
       "      <td id=\"T_57fbd_row11_col0\" class=\"data row11 col0\" >int64</td>\n",
       "      <td id=\"T_57fbd_row11_col1\" class=\"data row11 col1\" >0</td>\n",
       "      <td id=\"T_57fbd_row11_col2\" class=\"data row11 col2\" >0.000000</td>\n",
       "      <td id=\"T_57fbd_row11_col3\" class=\"data row11 col3\" >6</td>\n",
       "      <td id=\"T_57fbd_row11_col4\" class=\"data row11 col4\" >1143</td>\n",
       "      <td id=\"T_57fbd_row11_col5\" class=\"data row11 col5\" >3.000000</td>\n",
       "      <td id=\"T_57fbd_row11_col6\" class=\"data row11 col6\" >8.000000</td>\n",
       "      <td id=\"T_57fbd_row11_col7\" class=\"data row11 col7\" >5.657043</td>\n",
       "    </tr>\n",
       "    <tr>\n",
       "      <th id=\"T_57fbd_level0_row12\" class=\"row_heading level0 row12\" >Id</th>\n",
       "      <td id=\"T_57fbd_row12_col0\" class=\"data row12 col0\" >int64</td>\n",
       "      <td id=\"T_57fbd_row12_col1\" class=\"data row12 col1\" >0</td>\n",
       "      <td id=\"T_57fbd_row12_col2\" class=\"data row12 col2\" >0.000000</td>\n",
       "      <td id=\"T_57fbd_row12_col3\" class=\"data row12 col3\" >1143</td>\n",
       "      <td id=\"T_57fbd_row12_col4\" class=\"data row12 col4\" >1143</td>\n",
       "      <td id=\"T_57fbd_row12_col5\" class=\"data row12 col5\" >0.000000</td>\n",
       "      <td id=\"T_57fbd_row12_col6\" class=\"data row12 col6\" >1597.000000</td>\n",
       "      <td id=\"T_57fbd_row12_col7\" class=\"data row12 col7\" >804.969379</td>\n",
       "    </tr>\n",
       "  </tbody>\n",
       "</table>\n"
      ],
      "text/plain": [
       "<pandas.io.formats.style.Styler at 0x24d6f6fbca0>"
      ]
     },
     "execution_count": 132,
     "metadata": {},
     "output_type": "execute_result"
    }
   ],
   "source": [
    "def summary(train):\n",
    "    sum = pd.DataFrame(train.dtypes, columns=['dtypes'])\n",
    "    sum['missing#'] = train.isna().sum()\n",
    "    sum['missing%'] = (train.isna().sum().values*100)/len(train)\n",
    "    sum['uniques'] = train.nunique().values\n",
    "    sum['count'] = train.count().values\n",
    "    # sum['value_counts']=train.value_counts()\n",
    "    # sum['skew'] = train.skew().values\n",
    "    desc = pd.DataFrame(train.describe().T)\n",
    "    sum['min'] = desc['min']\n",
    "    sum['max'] = desc['max']\n",
    "    sum['mean'] = desc['mean']\n",
    "    return sum\n",
    "\n",
    "summary(train).style.background_gradient(cmap='GnBu')"
   ]
  },
  {
   "cell_type": "markdown",
   "metadata": {},
   "source": [
    "## **DATA VISUALIZATION**"
   ]
  },
  {
   "cell_type": "code",
   "execution_count": 133,
   "metadata": {},
   "outputs": [
    {
     "data": {
      "text/plain": [
       "<AxesSubplot:>"
      ]
     },
     "execution_count": 133,
     "metadata": {},
     "output_type": "execute_result"
    },
    {
     "data": {
      "image/png": "[encoded data removed]",
      "text/plain": [
       "<Figure size 1080x576 with 1 Axes>"
      ]
     },
     "metadata": {
      "needs_background": "light"
     },
     "output_type": "display_data"
    }
   ],
   "source": [
    "plt.figure(figsize=(15,8))\n",
    "train.boxplot()"
   ]
  },
  {
   "cell_type": "code",
   "execution_count": 134,
   "metadata": {},
   "outputs": [
    {
     "data": {
      "text/plain": [
       "array([[<AxesSubplot:title={'center':'fixed acidity'}>,\n",
       "        <AxesSubplot:title={'center':'volatile acidity'}>,\n",
       "        <AxesSubplot:title={'center':'citric acid'}>,\n",
       "        <AxesSubplot:title={'center':'residual sugar'}>],\n",
       "       [<AxesSubplot:title={'center':'chlorides'}>,\n",
       "        <AxesSubplot:title={'center':'free sulfur dioxide'}>,\n",
       "        <AxesSubplot:title={'center':'total sulfur dioxide'}>,\n",
       "        <AxesSubplot:title={'center':'density'}>],\n",
       "       [<AxesSubplot:title={'center':'pH'}>,\n",
       "        <AxesSubplot:title={'center':'sulphates'}>,\n",
       "        <AxesSubplot:title={'center':'alcohol'}>,\n",
       "        <AxesSubplot:title={'center':'quality'}>],\n",
       "       [<AxesSubplot:title={'center':'Id'}>, <AxesSubplot:>,\n",
       "        <AxesSubplot:>, <AxesSubplot:>]], dtype=object)"
      ]
     },
     "execution_count": 134,
     "metadata": {},
     "output_type": "execute_result"
    },
    {
     "data": {
      "image/png": "[encoded data removed]",
      "text/plain": [
       "<Figure size 1440x1440 with 16 Axes>"
      ]
     },
     "metadata": {
      "needs_background": "light"
     },
     "output_type": "display_data"
    }
   ],
   "source": [
    "train.hist(figsize=(20,20))\n"
   ]
  },
  {
   "cell_type": "code",
   "execution_count": 135,
   "metadata": {},
   "outputs": [
    {
     "data": {
      "text/plain": [
       "<AxesSubplot:xlabel='quality', ylabel='count'>"
      ]
     },
     "execution_count": 135,
     "metadata": {},
     "output_type": "execute_result"
    },
    {
     "data": {
      "image/png": "[encoded data removed]",
      "text/plain": [
       "<Figure size 432x288 with 1 Axes>"
      ]
     },
     "metadata": {
      "needs_background": "light"
     },
     "output_type": "display_data"
    }
   ],
   "source": [
    "sns.countplot(data=train,x='quality')"
   ]
  },
  {
   "cell_type": "code",
   "execution_count": 136,
   "metadata": {},
   "outputs": [
    {
     "data": {
      "text/plain": [
       "<AxesSubplot:>"
      ]
     },
     "execution_count": 136,
     "metadata": {},
     "output_type": "execute_result"
    },
    {
     "data": {
      "image/png": "[encoded data removed]",
      "text/plain": [
       "<Figure size 1080x576 with 2 Axes>"
      ]
     },
     "metadata": {
      "needs_background": "light"
     },
     "output_type": "display_data"
    }
   ],
   "source": [
    "plt.figure(figsize=(15,8))\n",
    "sns.heatmap(train.corr(),annot=True,cmap='coolwarm')"
   ]
  },
  {
   "cell_type": "markdown",
   "metadata": {},
   "source": [
    "## **SPLITTING**"
   ]
  },
  {
   "cell_type": "code",
   "execution_count": 137,
   "metadata": {},
   "outputs": [],
   "source": [
    "x = train.drop('quality', axis=1)\n",
    "y = train['quality']"
   ]
  },
  {
   "cell_type": "markdown",
   "metadata": {},
   "source": [
    "## **SMOTING**"
   ]
  },
  {
   "cell_type": "code",
   "execution_count": 138,
   "metadata": {},
   "outputs": [],
   "source": [
    "from imblearn.over_sampling import SMOTE\n",
    "sm=SMOTE()\n",
    "x_sm,y_sm=sm.fit_resample(x,y)"
   ]
  },
  {
   "cell_type": "code",
   "execution_count": 139,
   "metadata": {},
   "outputs": [
    {
     "name": "stdout",
     "output_type": "stream",
     "text": [
      "(2898, 12)\n",
      "(2898,)\n"
     ]
    }
   ],
   "source": [
    "print(x_sm.shape)\n",
    "print(y_sm.shape)"
   ]
  },
  {
   "cell_type": "markdown",
   "metadata": {},
   "source": [
    "## **SCALING**"
   ]
  },
  {
   "cell_type": "code",
   "execution_count": 140,
   "metadata": {},
   "outputs": [],
   "source": [
    "from sklearn.preprocessing import StandardScaler"
   ]
  },
  {
   "cell_type": "code",
   "execution_count": 141,
   "metadata": {},
   "outputs": [],
   "source": [
    "sc=StandardScaler()\n",
    "x_sc=sc.fit_transform(x_sm)"
   ]
  },
  {
   "cell_type": "code",
   "execution_count": 142,
   "metadata": {},
   "outputs": [],
   "source": [
    "xtrain,xtest,ytrain,ytest=train_test_split(x_sc,y_sm,test_size=0.2,random_state=142)"
   ]
  },
  {
   "cell_type": "code",
   "execution_count": 143,
   "metadata": {},
   "outputs": [
    {
     "name": "stdout",
     "output_type": "stream",
     "text": [
      "(2318, 12)\n",
      "(580, 12)\n",
      "(2318,)\n",
      "(580,)\n"
     ]
    }
   ],
   "source": [
    "print(xtrain.shape)\n",
    "print(xtest.shape)\n",
    "print(ytrain.shape)\n",
    "print(ytest.shape)"
   ]
  },
  {
   "cell_type": "code",
   "execution_count": 144,
   "metadata": {},
   "outputs": [],
   "source": [
    "def acc_report(actual,predicted):\n",
    "    acc_score=accuracy_score(actual,predicted)\n",
    "    cm_matrix=confusion_matrix(actual,predicted)\n",
    "    class_rep=classification_report(actual,predicted)\n",
    "    print('the accuracy of tha model is ',acc_score)\n",
    "    print(cm_matrix)\n",
    "    print(class_rep)"
   ]
  },
  {
   "cell_type": "markdown",
   "metadata": {},
   "source": [
    "## **LogisticRegression**"
   ]
  },
  {
   "cell_type": "code",
   "execution_count": 145,
   "metadata": {},
   "outputs": [
    {
     "name": "stderr",
     "output_type": "stream",
     "text": [
      "c:\\ProgramData\\Anaconda3\\lib\\site-packages\\sklearn\\linear_model\\_logistic.py:814: ConvergenceWarning: lbfgs failed to converge (status=1):\n",
      "STOP: TOTAL NO. of ITERATIONS REACHED LIMIT.\n",
      "\n",
      "Increase the number of iterations (max_iter) or scale the data as shown in:\n",
      "    https://scikit-learn.org/stable/modules/preprocessing.html\n",
      "Please also refer to the documentation for alternative solver options:\n",
      "    https://scikit-learn.org/stable/modules/linear_model.html#logistic-regression\n",
      "  n_iter_i = _check_optimize_result(\n"
     ]
    }
   ],
   "source": [
    "lgr=LogisticRegression()\n",
    "lgr.fit(xtrain,ytrain)\n",
    "pred_lgr_train=lgr.predict(xtrain)\n",
    "pred_lgr_test=lgr.predict(xtest)"
   ]
  },
  {
   "cell_type": "code",
   "execution_count": 146,
   "metadata": {},
   "outputs": [
    {
     "name": "stdout",
     "output_type": "stream",
     "text": [
      "the accuracy of tha model is  0.6531492666091459\n",
      "[[387   0   0   0   0   0]\n",
      " [ 18 240  68  45  10   0]\n",
      " [ 16  75 221  59  13  10]\n",
      " [  5  48  79 140  75  32]\n",
      " [  0  17  15  64 204  89]\n",
      " [  0   0   0   0  66 322]]\n",
      "              precision    recall  f1-score   support\n",
      "\n",
      "           3       0.91      1.00      0.95       387\n",
      "           4       0.63      0.63      0.63       381\n",
      "           5       0.58      0.56      0.57       394\n",
      "           6       0.45      0.37      0.41       379\n",
      "           7       0.55      0.52      0.54       389\n",
      "           8       0.71      0.83      0.77       388\n",
      "\n",
      "    accuracy                           0.65      2318\n",
      "   macro avg       0.64      0.65      0.64      2318\n",
      "weighted avg       0.64      0.65      0.64      2318\n",
      "\n"
     ]
    }
   ],
   "source": [
    "acc_report(ytrain,pred_lgr_train)"
   ]
  },
  {
   "cell_type": "code",
   "execution_count": 147,
   "metadata": {},
   "outputs": [
    {
     "name": "stdout",
     "output_type": "stream",
     "text": [
      "the accuracy of tha model is  0.6448275862068965\n",
      "[[96  0  0  0  0  0]\n",
      " [ 7 66 12 10  7  0]\n",
      " [ 1 18 47 14  7  2]\n",
      " [ 2 16 25 31 22  8]\n",
      " [ 0  3  3 16 57 15]\n",
      " [ 0  0  0  0 18 77]]\n",
      "              precision    recall  f1-score   support\n",
      "\n",
      "           3       0.91      1.00      0.95        96\n",
      "           4       0.64      0.65      0.64       102\n",
      "           5       0.54      0.53      0.53        89\n",
      "           6       0.44      0.30      0.35       104\n",
      "           7       0.51      0.61      0.56        94\n",
      "           8       0.75      0.81      0.78        95\n",
      "\n",
      "    accuracy                           0.64       580\n",
      "   macro avg       0.63      0.65      0.64       580\n",
      "weighted avg       0.63      0.64      0.63       580\n",
      "\n"
     ]
    }
   ],
   "source": [
    "acc_report(ytest,pred_lgr_test)"
   ]
  },
  {
   "cell_type": "markdown",
   "metadata": {},
   "source": [
    "## **RandomForestClassifier**"
   ]
  },
  {
   "cell_type": "code",
   "execution_count": 204,
   "metadata": {},
   "outputs": [],
   "source": [
    "rf=RandomForestClassifier(n_estimators=400,max_depth=100,min_samples_split=18,min_samples_leaf=3)\n",
    "rf.fit(xtrain,ytrain)\n",
    "pred_rf_train=rf.predict(xtrain)\n",
    "pred_rf_test=rf.predict(xtest)"
   ]
  },
  {
   "cell_type": "code",
   "execution_count": 205,
   "metadata": {},
   "outputs": [
    {
     "name": "stdout",
     "output_type": "stream",
     "text": [
      "the accuracy of tha model is  0.9396031061259706\n",
      "[[387   0   0   0   0   0]\n",
      " [  0 380   1   0   0   0]\n",
      " [  2   5 357  20  10   0]\n",
      " [  1   6  42 292  33   5]\n",
      " [  0   2   2   5 374   6]\n",
      " [  0   0   0   0   0 388]]\n",
      "              precision    recall  f1-score   support\n",
      "\n",
      "           3       0.99      1.00      1.00       387\n",
      "           4       0.97      1.00      0.98       381\n",
      "           5       0.89      0.91      0.90       394\n",
      "           6       0.92      0.77      0.84       379\n",
      "           7       0.90      0.96      0.93       389\n",
      "           8       0.97      1.00      0.99       388\n",
      "\n",
      "    accuracy                           0.94      2318\n",
      "   macro avg       0.94      0.94      0.94      2318\n",
      "weighted avg       0.94      0.94      0.94      2318\n",
      "\n"
     ]
    }
   ],
   "source": [
    "acc_report(ytrain,pred_rf_train)"
   ]
  },
  {
   "cell_type": "code",
   "execution_count": 206,
   "metadata": {},
   "outputs": [
    {
     "name": "stdout",
     "output_type": "stream",
     "text": [
      "the accuracy of tha model is  0.8068965517241379\n",
      "[[ 96   0   0   0   0   0]\n",
      " [  0 100   2   0   0   0]\n",
      " [  1   8  57  13  10   0]\n",
      " [  0   5  34  35  30   0]\n",
      " [  0   1   1   3  85   4]\n",
      " [  0   0   0   0   0  95]]\n",
      "              precision    recall  f1-score   support\n",
      "\n",
      "           3       0.99      1.00      0.99        96\n",
      "           4       0.88      0.98      0.93       102\n",
      "           5       0.61      0.64      0.62        89\n",
      "           6       0.69      0.34      0.45       104\n",
      "           7       0.68      0.90      0.78        94\n",
      "           8       0.96      1.00      0.98        95\n",
      "\n",
      "    accuracy                           0.81       580\n",
      "   macro avg       0.80      0.81      0.79       580\n",
      "weighted avg       0.80      0.81      0.79       580\n",
      "\n"
     ]
    }
   ],
   "source": [
    "acc_report(ytest,pred_rf_test)"
   ]
  },
  {
   "cell_type": "markdown",
   "metadata": {},
   "source": [
    "## **DecisionTreeClassifier with RandomizedSearchCV**"
   ]
  },
  {
   "cell_type": "code",
   "execution_count": 207,
   "metadata": {},
   "outputs": [],
   "source": [
    "dt=DecisionTreeClassifier()"
   ]
  },
  {
   "cell_type": "code",
   "execution_count": 155,
   "metadata": {},
   "outputs": [],
   "source": [
    "from sklearn.model_selection import RandomizedSearchCV,GridSearchCV\n",
    "random = {\n",
    "    'max_depth': [i for i in range(5, 70, 2)],\n",
    "    'min_samples_leaf': [x for x in range(2, 30, 2)],\n",
    "    'min_samples_split': [x for x in range(8, 50, 2)],\n",
    "    'criterion': ['gini', 'entropy']\n",
    "}"
   ]
  },
  {
   "cell_type": "code",
   "execution_count": 156,
   "metadata": {},
   "outputs": [
    {
     "name": "stdout",
     "output_type": "stream",
     "text": [
      "Fitting 5 folds for each of 10 candidates, totalling 50 fits\n",
      "[CV] END criterion=entropy, max_depth=49, min_samples_leaf=8, min_samples_split=30; total time=   0.0s\n",
      "[CV] END criterion=entropy, max_depth=49, min_samples_leaf=8, min_samples_split=30; total time=   0.0s\n",
      "[CV] END criterion=entropy, max_depth=49, min_samples_leaf=8, min_samples_split=30; total time=   0.0s\n",
      "[CV] END criterion=entropy, max_depth=49, min_samples_leaf=8, min_samples_split=30; total time=   0.0s\n",
      "[CV] END criterion=entropy, max_depth=49, min_samples_leaf=8, min_samples_split=30; total time=   0.0s\n",
      "[CV] END criterion=entropy, max_depth=23, min_samples_leaf=14, min_samples_split=10; total time=   0.0s\n",
      "[CV] END criterion=entropy, max_depth=23, min_samples_leaf=14, min_samples_split=10; total time=   0.0s\n",
      "[CV] END criterion=entropy, max_depth=23, min_samples_leaf=14, min_samples_split=10; total time=   0.0s\n",
      "[CV] END criterion=entropy, max_depth=23, min_samples_leaf=14, min_samples_split=10; total time=   0.0s\n",
      "[CV] END criterion=entropy, max_depth=23, min_samples_leaf=14, min_samples_split=10; total time=   0.0s\n",
      "[CV] END criterion=gini, max_depth=33, min_samples_leaf=10, min_samples_split=10; total time=   0.0s\n",
      "[CV] END criterion=gini, max_depth=33, min_samples_leaf=10, min_samples_split=10; total time=   0.0s\n",
      "[CV] END criterion=gini, max_depth=33, min_samples_leaf=10, min_samples_split=10; total time=   0.0s\n",
      "[CV] END criterion=gini, max_depth=33, min_samples_leaf=10, min_samples_split=10; total time=   0.0s\n",
      "[CV] END criterion=gini, max_depth=33, min_samples_leaf=10, min_samples_split=10; total time=   0.0s\n",
      "[CV] END criterion=entropy, max_depth=13, min_samples_leaf=6, min_samples_split=36; total time=   0.0s\n",
      "[CV] END criterion=entropy, max_depth=13, min_samples_leaf=6, min_samples_split=36; total time=   0.0s\n",
      "[CV] END criterion=entropy, max_depth=13, min_samples_leaf=6, min_samples_split=36; total time=   0.0s\n",
      "[CV] END criterion=entropy, max_depth=13, min_samples_leaf=6, min_samples_split=36; total time=   0.0s\n",
      "[CV] END criterion=entropy, max_depth=13, min_samples_leaf=6, min_samples_split=36; total time=   0.0s\n",
      "[CV] END criterion=gini, max_depth=45, min_samples_leaf=20, min_samples_split=30; total time=   0.0s\n",
      "[CV] END criterion=gini, max_depth=45, min_samples_leaf=20, min_samples_split=30; total time=   0.0s\n",
      "[CV] END criterion=gini, max_depth=45, min_samples_leaf=20, min_samples_split=30; total time=   0.0s\n",
      "[CV] END criterion=gini, max_depth=45, min_samples_leaf=20, min_samples_split=30; total time=   0.0s\n",
      "[CV] END criterion=gini, max_depth=45, min_samples_leaf=20, min_samples_split=30; total time=   0.0s\n",
      "[CV] END criterion=gini, max_depth=53, min_samples_leaf=16, min_samples_split=10; total time=   0.0s\n",
      "[CV] END criterion=gini, max_depth=53, min_samples_leaf=16, min_samples_split=10; total time=   0.0s\n",
      "[CV] END criterion=gini, max_depth=53, min_samples_leaf=16, min_samples_split=10; total time=   0.0s\n",
      "[CV] END criterion=gini, max_depth=53, min_samples_leaf=16, min_samples_split=10; total time=   0.0s\n",
      "[CV] END criterion=gini, max_depth=53, min_samples_leaf=16, min_samples_split=10; total time=   0.0s\n",
      "[CV] END criterion=entropy, max_depth=25, min_samples_leaf=18, min_samples_split=44; total time=   0.0s\n",
      "[CV] END criterion=entropy, max_depth=25, min_samples_leaf=18, min_samples_split=44; total time=   0.0s\n",
      "[CV] END criterion=entropy, max_depth=25, min_samples_leaf=18, min_samples_split=44; total time=   0.0s\n",
      "[CV] END criterion=entropy, max_depth=25, min_samples_leaf=18, min_samples_split=44; total time=   0.0s\n",
      "[CV] END criterion=entropy, max_depth=25, min_samples_leaf=18, min_samples_split=44; total time=   0.0s\n",
      "[CV] END criterion=gini, max_depth=41, min_samples_leaf=2, min_samples_split=24; total time=   0.0s\n",
      "[CV] END criterion=gini, max_depth=41, min_samples_leaf=2, min_samples_split=24; total time=   0.0s\n",
      "[CV] END criterion=gini, max_depth=41, min_samples_leaf=2, min_samples_split=24; total time=   0.0s\n",
      "[CV] END criterion=gini, max_depth=41, min_samples_leaf=2, min_samples_split=24; total time=   0.0s\n",
      "[CV] END criterion=gini, max_depth=41, min_samples_leaf=2, min_samples_split=24; total time=   0.0s\n",
      "[CV] END criterion=entropy, max_depth=65, min_samples_leaf=14, min_samples_split=26; total time=   0.0s\n",
      "[CV] END criterion=entropy, max_depth=65, min_samples_leaf=14, min_samples_split=26; total time=   0.0s\n",
      "[CV] END criterion=entropy, max_depth=65, min_samples_leaf=14, min_samples_split=26; total time=   0.0s\n",
      "[CV] END criterion=entropy, max_depth=65, min_samples_leaf=14, min_samples_split=26; total time=   0.0s\n",
      "[CV] END criterion=entropy, max_depth=65, min_samples_leaf=14, min_samples_split=26; total time=   0.0s\n",
      "[CV] END criterion=gini, max_depth=17, min_samples_leaf=24, min_samples_split=42; total time=   0.0s\n",
      "[CV] END criterion=gini, max_depth=17, min_samples_leaf=24, min_samples_split=42; total time=   0.0s\n",
      "[CV] END criterion=gini, max_depth=17, min_samples_leaf=24, min_samples_split=42; total time=   0.0s\n",
      "[CV] END criterion=gini, max_depth=17, min_samples_leaf=24, min_samples_split=42; total time=   0.0s\n",
      "[CV] END criterion=gini, max_depth=17, min_samples_leaf=24, min_samples_split=42; total time=   0.0s\n"
     ]
    }
   ],
   "source": [
    "clf=RandomizedSearchCV(dt,random,scoring='accuracy',verbose=2)\n",
    "search=clf.fit(xtrain,ytrain)\n"
   ]
  },
  {
   "cell_type": "code",
   "execution_count": 158,
   "metadata": {},
   "outputs": [
    {
     "data": {
      "text/plain": [
       "0.7049257093915245"
      ]
     },
     "execution_count": 158,
     "metadata": {},
     "output_type": "execute_result"
    }
   ],
   "source": [
    "search.best_score_"
   ]
  },
  {
   "cell_type": "code",
   "execution_count": 159,
   "metadata": {},
   "outputs": [
    {
     "data": {
      "text/plain": [
       "{'min_samples_split': 24,\n",
       " 'min_samples_leaf': 2,\n",
       " 'max_depth': 41,\n",
       " 'criterion': 'gini'}"
      ]
     },
     "execution_count": 159,
     "metadata": {},
     "output_type": "execute_result"
    }
   ],
   "source": [
    "search.best_params_"
   ]
  },
  {
   "cell_type": "code",
   "execution_count": 253,
   "metadata": {},
   "outputs": [],
   "source": [
    "dt=DecisionTreeClassifier(min_samples_split=3,min_samples_leaf=2,max_depth=50,criterion='gini')\n",
    "dt.fit(xtrain,ytrain)\n",
    "pred_dt_train=dt.predict(xtrain)\n",
    "pred_dt_test=dt.predict(xtest)"
   ]
  },
  {
   "cell_type": "code",
   "execution_count": 254,
   "metadata": {},
   "outputs": [
    {
     "name": "stdout",
     "output_type": "stream",
     "text": [
      "the accuracy of tha model is  0.956427955133736\n",
      "[[387   0   0   0   0   0]\n",
      " [  0 381   0   0   0   0]\n",
      " [  0   9 379   6   0   0]\n",
      " [  2   7  27 339   2   2]\n",
      " [  1   4  11  23 350   0]\n",
      " [  0   0   0   6   1 381]]\n",
      "              precision    recall  f1-score   support\n",
      "\n",
      "           3       0.99      1.00      1.00       387\n",
      "           4       0.95      1.00      0.97       381\n",
      "           5       0.91      0.96      0.93       394\n",
      "           6       0.91      0.89      0.90       379\n",
      "           7       0.99      0.90      0.94       389\n",
      "           8       0.99      0.98      0.99       388\n",
      "\n",
      "    accuracy                           0.96      2318\n",
      "   macro avg       0.96      0.96      0.96      2318\n",
      "weighted avg       0.96      0.96      0.96      2318\n",
      "\n"
     ]
    }
   ],
   "source": [
    "acc_report(ytrain,pred_dt_train)"
   ]
  },
  {
   "cell_type": "code",
   "execution_count": 255,
   "metadata": {},
   "outputs": [
    {
     "name": "stdout",
     "output_type": "stream",
     "text": [
      "the accuracy of tha model is  0.7706896551724138\n",
      "[[95  1  0  0  0  0]\n",
      " [ 0 92  7  1  2  0]\n",
      " [ 4 13 50 15  7  0]\n",
      " [ 2 12 26 48 14  2]\n",
      " [ 0  3  2 11 72  6]\n",
      " [ 0  0  0  2  3 90]]\n",
      "              precision    recall  f1-score   support\n",
      "\n",
      "           3       0.94      0.99      0.96        96\n",
      "           4       0.76      0.90      0.83       102\n",
      "           5       0.59      0.56      0.57        89\n",
      "           6       0.62      0.46      0.53       104\n",
      "           7       0.73      0.77      0.75        94\n",
      "           8       0.92      0.95      0.93        95\n",
      "\n",
      "    accuracy                           0.77       580\n",
      "   macro avg       0.76      0.77      0.76       580\n",
      "weighted avg       0.76      0.77      0.76       580\n",
      "\n"
     ]
    }
   ],
   "source": [
    "acc_report(ytest,pred_dt_test)"
   ]
  },
  {
   "cell_type": "markdown",
   "metadata": {},
   "source": [
    "## **AdaBoostClassifier**"
   ]
  },
  {
   "cell_type": "code",
   "execution_count": 273,
   "metadata": {},
   "outputs": [],
   "source": [
    "ada=AdaBoostClassifier(n_estimators=100,learning_rate=0.9323)\n",
    "ada.fit(xtrain,ytrain)\n",
    "y_pred_train_ada=ada.predict(xtrain)\n",
    "y_pred_test_ada=ada.predict(xtest)"
   ]
  },
  {
   "cell_type": "code",
   "execution_count": 274,
   "metadata": {},
   "outputs": [
    {
     "name": "stdout",
     "output_type": "stream",
     "text": [
      "the accuracy of tha model is  0.319672131147541\n",
      "[[387   0   0   0   0   0]\n",
      " [271   0   0   0 100  10]\n",
      " [283   0   4   0 105   2]\n",
      " [184   0   1   0 188   6]\n",
      " [ 63   0   0   0 322   4]\n",
      " [  0   0   1   0 359  28]]\n",
      "              precision    recall  f1-score   support\n",
      "\n",
      "           3       0.33      1.00      0.49       387\n",
      "           4       0.00      0.00      0.00       381\n",
      "           5       0.67      0.01      0.02       394\n",
      "           6       0.00      0.00      0.00       379\n",
      "           7       0.30      0.83      0.44       389\n",
      "           8       0.56      0.07      0.13       388\n",
      "\n",
      "    accuracy                           0.32      2318\n",
      "   macro avg       0.31      0.32      0.18      2318\n",
      "weighted avg       0.31      0.32      0.18      2318\n",
      "\n"
     ]
    },
    {
     "name": "stderr",
     "output_type": "stream",
     "text": [
      "c:\\ProgramData\\Anaconda3\\lib\\site-packages\\sklearn\\metrics\\_classification.py:1318: UndefinedMetricWarning: Precision and F-score are ill-defined and being set to 0.0 in labels with no predicted samples. Use `zero_division` parameter to control this behavior.\n",
      "  _warn_prf(average, modifier, msg_start, len(result))\n",
      "c:\\ProgramData\\Anaconda3\\lib\\site-packages\\sklearn\\metrics\\_classification.py:1318: UndefinedMetricWarning: Precision and F-score are ill-defined and being set to 0.0 in labels with no predicted samples. Use `zero_division` parameter to control this behavior.\n",
      "  _warn_prf(average, modifier, msg_start, len(result))\n",
      "c:\\ProgramData\\Anaconda3\\lib\\site-packages\\sklearn\\metrics\\_classification.py:1318: UndefinedMetricWarning: Precision and F-score are ill-defined and being set to 0.0 in labels with no predicted samples. Use `zero_division` parameter to control this behavior.\n",
      "  _warn_prf(average, modifier, msg_start, len(result))\n"
     ]
    }
   ],
   "source": [
    "acc_report(ytrain,y_pred_train_ada)"
   ]
  },
  {
   "cell_type": "code",
   "execution_count": 275,
   "metadata": {},
   "outputs": [
    {
     "name": "stdout",
     "output_type": "stream",
     "text": [
      "the accuracy of tha model is  0.31896551724137934\n",
      "[[96  0  0  0  0  0]\n",
      " [79  0  0  0 18  5]\n",
      " [61  0  0  0 26  2]\n",
      " [53  0  0  0 50  1]\n",
      " [11  0  0  0 83  0]\n",
      " [ 0  0  0  0 89  6]]\n",
      "              precision    recall  f1-score   support\n",
      "\n",
      "           3       0.32      1.00      0.48        96\n",
      "           4       0.00      0.00      0.00       102\n",
      "           5       0.00      0.00      0.00        89\n",
      "           6       0.00      0.00      0.00       104\n",
      "           7       0.31      0.88      0.46        94\n",
      "           8       0.43      0.06      0.11        95\n",
      "\n",
      "    accuracy                           0.32       580\n",
      "   macro avg       0.18      0.32      0.18       580\n",
      "weighted avg       0.17      0.32      0.17       580\n",
      "\n"
     ]
    },
    {
     "name": "stderr",
     "output_type": "stream",
     "text": [
      "c:\\ProgramData\\Anaconda3\\lib\\site-packages\\sklearn\\metrics\\_classification.py:1318: UndefinedMetricWarning: Precision and F-score are ill-defined and being set to 0.0 in labels with no predicted samples. Use `zero_division` parameter to control this behavior.\n",
      "  _warn_prf(average, modifier, msg_start, len(result))\n",
      "c:\\ProgramData\\Anaconda3\\lib\\site-packages\\sklearn\\metrics\\_classification.py:1318: UndefinedMetricWarning: Precision and F-score are ill-defined and being set to 0.0 in labels with no predicted samples. Use `zero_division` parameter to control this behavior.\n",
      "  _warn_prf(average, modifier, msg_start, len(result))\n",
      "c:\\ProgramData\\Anaconda3\\lib\\site-packages\\sklearn\\metrics\\_classification.py:1318: UndefinedMetricWarning: Precision and F-score are ill-defined and being set to 0.0 in labels with no predicted samples. Use `zero_division` parameter to control this behavior.\n",
      "  _warn_prf(average, modifier, msg_start, len(result))\n"
     ]
    }
   ],
   "source": [
    "acc_report(ytest,y_pred_test_ada)"
   ]
  },
  {
   "cell_type": "markdown",
   "metadata": {},
   "source": [
    "## **GradientBoostingClassifier**"
   ]
  },
  {
   "cell_type": "code",
   "execution_count": 276,
   "metadata": {},
   "outputs": [
    {
     "data": {
      "text/plain": [
       "GradientBoostingClassifier(learning_rate=0.9445)"
      ]
     },
     "execution_count": 276,
     "metadata": {},
     "output_type": "execute_result"
    }
   ],
   "source": [
    "gb=GradientBoostingClassifier(learning_rate=0.9445)\n",
    "gb.fit(xtrain,ytrain)"
   ]
  },
  {
   "cell_type": "code",
   "execution_count": 263,
   "metadata": {},
   "outputs": [],
   "source": [
    "y_pred_train_gb=gb.predict(xtrain)\n",
    "y_pred_test_gb=gb.predict(xtest)\n"
   ]
  },
  {
   "cell_type": "code",
   "execution_count": 264,
   "metadata": {},
   "outputs": [
    {
     "name": "stdout",
     "output_type": "stream",
     "text": [
      "the accuracy of tha model is  1.0\n",
      "[[387   0   0   0   0   0]\n",
      " [  0 381   0   0   0   0]\n",
      " [  0   0 394   0   0   0]\n",
      " [  0   0   0 379   0   0]\n",
      " [  0   0   0   0 389   0]\n",
      " [  0   0   0   0   0 388]]\n",
      "              precision    recall  f1-score   support\n",
      "\n",
      "           3       1.00      1.00      1.00       387\n",
      "           4       1.00      1.00      1.00       381\n",
      "           5       1.00      1.00      1.00       394\n",
      "           6       1.00      1.00      1.00       379\n",
      "           7       1.00      1.00      1.00       389\n",
      "           8       1.00      1.00      1.00       388\n",
      "\n",
      "    accuracy                           1.00      2318\n",
      "   macro avg       1.00      1.00      1.00      2318\n",
      "weighted avg       1.00      1.00      1.00      2318\n",
      "\n"
     ]
    }
   ],
   "source": [
    "acc_report(ytrain,y_pred_train_gb)"
   ]
  },
  {
   "cell_type": "code",
   "execution_count": 265,
   "metadata": {},
   "outputs": [
    {
     "name": "stdout",
     "output_type": "stream",
     "text": [
      "the accuracy of tha model is  0.8310344827586207\n",
      "[[96  0  0  0  0  0]\n",
      " [ 0 95  5  2  0  0]\n",
      " [ 1  6 53 22  7  0]\n",
      " [ 0  7 22 61 14  0]\n",
      " [ 0  1  1  9 82  1]\n",
      " [ 0  0  0  0  0 95]]\n",
      "              precision    recall  f1-score   support\n",
      "\n",
      "           3       0.99      1.00      0.99        96\n",
      "           4       0.87      0.93      0.90       102\n",
      "           5       0.65      0.60      0.62        89\n",
      "           6       0.65      0.59      0.62       104\n",
      "           7       0.80      0.87      0.83        94\n",
      "           8       0.99      1.00      0.99        95\n",
      "\n",
      "    accuracy                           0.83       580\n",
      "   macro avg       0.83      0.83      0.83       580\n",
      "weighted avg       0.82      0.83      0.83       580\n",
      "\n"
     ]
    }
   ],
   "source": [
    "acc_report(ytest,y_pred_test_gb)"
   ]
  },
  {
   "cell_type": "code",
   "execution_count": 277,
   "metadata": {},
   "outputs": [
    {
     "data": {
      "text/plain": [
       "44.721359549995796"
      ]
     },
     "execution_count": 277,
     "metadata": {},
     "output_type": "execute_result"
    }
   ],
   "source": [
    "np.sqrt(2000)"
   ]
  },
  {
   "cell_type": "markdown",
   "metadata": {},
   "source": [
    "## **KNeighborsClassifier**"
   ]
  },
  {
   "cell_type": "code",
   "execution_count": 294,
   "metadata": {},
   "outputs": [
    {
     "data": {
      "text/plain": [
       "KNeighborsClassifier(n_neighbors=2)"
      ]
     },
     "execution_count": 294,
     "metadata": {},
     "output_type": "execute_result"
    }
   ],
   "source": [
    "knn=KNeighborsClassifier(n_neighbors=2)\n",
    "knn.fit(xtrain,ytrain)"
   ]
  },
  {
   "cell_type": "code",
   "execution_count": 295,
   "metadata": {},
   "outputs": [],
   "source": [
    "y_pred_xtrain_knn=knn.predict(xtrain)\n",
    "y_pred_xtest_knn=knn.predict(xtest)"
   ]
  },
  {
   "cell_type": "code",
   "execution_count": 296,
   "metadata": {},
   "outputs": [
    {
     "name": "stdout",
     "output_type": "stream",
     "text": [
      "the accuracy of tha model is  0.9327006039689387\n",
      "[[387   0   0   0   0   0]\n",
      " [  0 381   0   0   0   0]\n",
      " [  3  30 361   0   0   0]\n",
      " [  4  18  81 276   0   0]\n",
      " [  0   2   3  13 371   0]\n",
      " [  0   0   0   1   1 386]]\n",
      "              precision    recall  f1-score   support\n",
      "\n",
      "           3       0.98      1.00      0.99       387\n",
      "           4       0.88      1.00      0.94       381\n",
      "           5       0.81      0.92      0.86       394\n",
      "           6       0.95      0.73      0.83       379\n",
      "           7       1.00      0.95      0.98       389\n",
      "           8       1.00      0.99      1.00       388\n",
      "\n",
      "    accuracy                           0.93      2318\n",
      "   macro avg       0.94      0.93      0.93      2318\n",
      "weighted avg       0.94      0.93      0.93      2318\n",
      "\n"
     ]
    }
   ],
   "source": [
    "acc_report(ytrain,y_pred_xtrain_knn)"
   ]
  },
  {
   "cell_type": "code",
   "execution_count": 297,
   "metadata": {},
   "outputs": [
    {
     "name": "stdout",
     "output_type": "stream",
     "text": [
      "the accuracy of tha model is  0.8137931034482758\n",
      "[[ 96   0   0   0   0   0]\n",
      " [  1 100   1   0   0   0]\n",
      " [  1  17  53  12   6   0]\n",
      " [  5   7  34  47  11   0]\n",
      " [  0   2   3   8  81   0]\n",
      " [  0   0   0   0   0  95]]\n",
      "              precision    recall  f1-score   support\n",
      "\n",
      "           3       0.93      1.00      0.96        96\n",
      "           4       0.79      0.98      0.88       102\n",
      "           5       0.58      0.60      0.59        89\n",
      "           6       0.70      0.45      0.55       104\n",
      "           7       0.83      0.86      0.84        94\n",
      "           8       1.00      1.00      1.00        95\n",
      "\n",
      "    accuracy                           0.81       580\n",
      "   macro avg       0.81      0.81      0.80       580\n",
      "weighted avg       0.81      0.81      0.80       580\n",
      "\n"
     ]
    }
   ],
   "source": [
    "acc_report(ytest,y_pred_xtest_knn)"
   ]
  },
  {
   "cell_type": "markdown",
   "metadata": {},
   "source": [
    "## **SVC**"
   ]
  },
  {
   "cell_type": "code",
   "execution_count": 298,
   "metadata": {},
   "outputs": [
    {
     "data": {
      "text/plain": [
       "SVC()"
      ]
     },
     "execution_count": 298,
     "metadata": {},
     "output_type": "execute_result"
    }
   ],
   "source": [
    "svc=SVC()\n",
    "svc.fit(xtrain,ytrain)"
   ]
  },
  {
   "cell_type": "code",
   "execution_count": 299,
   "metadata": {},
   "outputs": [],
   "source": [
    "y_pred_train_svc=svc.predict(xtrain)\n",
    "y_pred_test_svc=svc.predict(xtest)\n"
   ]
  },
  {
   "cell_type": "code",
   "execution_count": 300,
   "metadata": {},
   "outputs": [
    {
     "name": "stdout",
     "output_type": "stream",
     "text": [
      "the accuracy of tha model is  0.8248490077653149\n",
      "[[387   0   0   0   0   0]\n",
      " [  2 348  21  10   0   0]\n",
      " [ 14  53 262  53   8   4]\n",
      " [  4  30  65 221  41  18]\n",
      " [  0  13   1  34 306  35]\n",
      " [  0   0   0   0   0 388]]\n",
      "              precision    recall  f1-score   support\n",
      "\n",
      "           3       0.95      1.00      0.97       387\n",
      "           4       0.78      0.91      0.84       381\n",
      "           5       0.75      0.66      0.71       394\n",
      "           6       0.69      0.58      0.63       379\n",
      "           7       0.86      0.79      0.82       389\n",
      "           8       0.87      1.00      0.93       388\n",
      "\n",
      "    accuracy                           0.82      2318\n",
      "   macro avg       0.82      0.82      0.82      2318\n",
      "weighted avg       0.82      0.82      0.82      2318\n",
      "\n"
     ]
    }
   ],
   "source": [
    "acc_report(ytrain,y_pred_train_svc)"
   ]
  },
  {
   "cell_type": "code",
   "execution_count": 301,
   "metadata": {},
   "outputs": [
    {
     "name": "stdout",
     "output_type": "stream",
     "text": [
      "the accuracy of tha model is  0.7689655172413793\n",
      "[[96  0  0  0  0  0]\n",
      " [ 0 95  6  1  0  0]\n",
      " [ 1 16 47 17  7  1]\n",
      " [ 2  5 30 38 27  2]\n",
      " [ 0  5  0  8 75  6]\n",
      " [ 0  0  0  0  0 95]]\n",
      "              precision    recall  f1-score   support\n",
      "\n",
      "           3       0.97      1.00      0.98        96\n",
      "           4       0.79      0.93      0.85       102\n",
      "           5       0.57      0.53      0.55        89\n",
      "           6       0.59      0.37      0.45       104\n",
      "           7       0.69      0.80      0.74        94\n",
      "           8       0.91      1.00      0.95        95\n",
      "\n",
      "    accuracy                           0.77       580\n",
      "   macro avg       0.75      0.77      0.75       580\n",
      "weighted avg       0.75      0.77      0.75       580\n",
      "\n"
     ]
    }
   ],
   "source": [
    "acc_report(ytest,y_pred_test_svc)"
   ]
  },
  {
   "cell_type": "markdown",
   "metadata": {},
   "source": [
    "## **GaussianNB**"
   ]
  },
  {
   "cell_type": "code",
   "execution_count": 302,
   "metadata": {},
   "outputs": [],
   "source": [
    "from sklearn.naive_bayes import GaussianNB"
   ]
  },
  {
   "cell_type": "code",
   "execution_count": 303,
   "metadata": {},
   "outputs": [
    {
     "data": {
      "text/plain": [
       "GaussianNB()"
      ]
     },
     "execution_count": 303,
     "metadata": {},
     "output_type": "execute_result"
    }
   ],
   "source": [
    "gnb=GaussianNB()\n",
    "gnb.fit(xtrain,ytrain)"
   ]
  },
  {
   "cell_type": "code",
   "execution_count": 304,
   "metadata": {},
   "outputs": [],
   "source": [
    "y_pred_train_gnb=gnb.predict(xtrain)\n",
    "y_pred_test_gnb=gnb.predict(xtest)"
   ]
  },
  {
   "cell_type": "code",
   "execution_count": 305,
   "metadata": {},
   "outputs": [
    {
     "name": "stdout",
     "output_type": "stream",
     "text": [
      "the accuracy of tha model is  0.5522001725625539\n",
      "[[381   6   0   0   0   0]\n",
      " [ 92 159  71  46  13   0]\n",
      " [ 87  58 175  38  20  16]\n",
      " [ 34  58  62 101  61  63]\n",
      " [  4  16  15  48 129 177]\n",
      " [  0   0   0  22  31 335]]\n",
      "              precision    recall  f1-score   support\n",
      "\n",
      "           3       0.64      0.98      0.77       387\n",
      "           4       0.54      0.42      0.47       381\n",
      "           5       0.54      0.44      0.49       394\n",
      "           6       0.40      0.27      0.32       379\n",
      "           7       0.51      0.33      0.40       389\n",
      "           8       0.57      0.86      0.68       388\n",
      "\n",
      "    accuracy                           0.55      2318\n",
      "   macro avg       0.53      0.55      0.52      2318\n",
      "weighted avg       0.53      0.55      0.52      2318\n",
      "\n"
     ]
    }
   ],
   "source": [
    "acc_report(ytrain,y_pred_train_gnb)"
   ]
  },
  {
   "cell_type": "code",
   "execution_count": 306,
   "metadata": {},
   "outputs": [
    {
     "name": "stdout",
     "output_type": "stream",
     "text": [
      "the accuracy of tha model is  0.5137931034482759\n",
      "[[95  1  0  0  0  0]\n",
      " [23 42 17 14  6  0]\n",
      " [15 15 36  9  7  7]\n",
      " [10 21 20 13 23 17]\n",
      " [ 0  6  2 12 28 46]\n",
      " [ 0  0  0  4  7 84]]\n",
      "              precision    recall  f1-score   support\n",
      "\n",
      "           3       0.66      0.99      0.79        96\n",
      "           4       0.49      0.41      0.45       102\n",
      "           5       0.48      0.40      0.44        89\n",
      "           6       0.25      0.12      0.17       104\n",
      "           7       0.39      0.30      0.34        94\n",
      "           8       0.55      0.88      0.67        95\n",
      "\n",
      "    accuracy                           0.51       580\n",
      "   macro avg       0.47      0.52      0.48       580\n",
      "weighted avg       0.47      0.51      0.47       580\n",
      "\n"
     ]
    }
   ],
   "source": [
    "acc_report(ytest,y_pred_test_gnb)"
   ]
  },
  {
   "cell_type": "code",
   "execution_count": 307,
   "metadata": {},
   "outputs": [],
   "source": [
    "final_data=pd.DataFrame({'Models':['LR','RF','DT','adb','Gb','KNN','SVC','NB'],\n",
    "                'ACC':[accuracy_score(ytest,pred_lgr_test)*100,\n",
    "                        accuracy_score(ytest,pred_rf_test)*100,\n",
    "                        accuracy_score(ytest,pred_dt_test)*100,\n",
    "                        accuracy_score(ytest,y_pred_test_ada)*100,\n",
    "                        accuracy_score(ytest,y_pred_test_gb)*100,\n",
    "                        accuracy_score(ytest,y_pred_xtest_knn)*100,\n",
    "                        accuracy_score(ytest,y_pred_test_svc)*100,\n",
    "                        accuracy_score(ytest,y_pred_test_gnb)*100]})"
   ]
  },
  {
   "cell_type": "code",
   "execution_count": 308,
   "metadata": {},
   "outputs": [
    {
     "name": "stderr",
     "output_type": "stream",
     "text": [
      "c:\\ProgramData\\Anaconda3\\lib\\site-packages\\seaborn\\_decorators.py:36: FutureWarning: Pass the following variables as keyword args: x, y. From version 0.12, the only valid positional argument will be `data`, and passing other arguments without an explicit keyword will result in an error or misinterpretation.\n",
      "  warnings.warn(\n"
     ]
    },
    {
     "data": {
      "text/plain": [
       "<AxesSubplot:xlabel='Models', ylabel='ACC'>"
      ]
     },
     "execution_count": 308,
     "metadata": {},
     "output_type": "execute_result"
    },
    {
     "data": {
      "image/png": "[encoded data removed]",
      "text/plain": [
       "<Figure size 432x288 with 1 Axes>"
      ]
     },
     "metadata": {
      "needs_background": "light"
     },
     "output_type": "display_data"
    }
   ],
   "source": [
    "sns.barplot(final_data['Models'],final_data['ACC'])"
   ]
  }
 ],
 "metadata": {
  "kernelspec": {
   "display_name": "base",
   "language": "python",
   "name": "python3"
  },
  "language_info": {
   "codemirror_mode": {
    "name": "ipython",
    "version": 3
   },
   "file_extension": ".py",
   "mimetype": "text/x-python",
   "name": "python",
   "nbconvert_exporter": "python",
   "pygments_lexer": "ipython3",
   "version": "3.9.12"
  },
  "orig_nbformat": 4
 },
 "nbformat": 4,
 "nbformat_minor": 2
}
